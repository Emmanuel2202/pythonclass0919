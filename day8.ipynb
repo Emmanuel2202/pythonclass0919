{
 "cells": [
  {
   "cell_type": "code",
   "execution_count": 2,
   "metadata": {},
   "outputs": [
    {
     "data": {
      "text/plain": [
       "'Mammal'"
      ]
     },
     "execution_count": 2,
     "metadata": {},
     "output_type": "execute_result"
    }
   ],
   "source": [
    "class animal:\n",
    "    attr1 = 'Mammal'\n",
    "    attr2 = 'dog'\n",
    "obj = animal()\n",
    "obj.attr1"
   ]
  },
  {
   "cell_type": "code",
   "execution_count": 3,
   "metadata": {},
   "outputs": [
    {
     "data": {
      "text/plain": [
       "'dog'"
      ]
     },
     "execution_count": 3,
     "metadata": {},
     "output_type": "execute_result"
    }
   ],
   "source": [
    "obj.attr2"
   ]
  },
  {
   "cell_type": "code",
   "execution_count": 5,
   "metadata": {},
   "outputs": [
    {
     "name": "stdout",
     "output_type": "stream",
     "text": [
      "I belong to the family of Mammal\n"
     ]
    }
   ],
   "source": [
    "class animal:\n",
    "    attr1 = 'Mammal'\n",
    "    attr2 = 'dog'\n",
    "    def family(self):\n",
    "        print(f'I belong to the family of {self.attr1}')\n",
    "    def type(self):\n",
    "        print(f'I am a {self.attr2}')\n",
    "obj = animal()\n",
    "obj.family()"
   ]
  },
  {
   "cell_type": "code",
   "execution_count": 6,
   "metadata": {},
   "outputs": [
    {
     "name": "stdout",
     "output_type": "stream",
     "text": [
      "I am a dog\n"
     ]
    }
   ],
   "source": [
    "obj.type()"
   ]
  },
  {
   "cell_type": "code",
   "execution_count": 7,
   "metadata": {},
   "outputs": [],
   "source": [
    "# USING CLASS AND OBJECT WRITE  A CAR GAME SIMULATION HAVING FOLLOWING ATTRIBUTE (BRAND,MODEL,COLOR,YEAR,SPEED) AND THE FOLLOWING METHOD (START,GEAR,ACCELERATE,STOP) AFTER CREATE ANOTHER CLASS TO INHERIT THE ATTRIBUTE AND METHOD OF THAT CLASS\n",
    "class car_game_simulation:\n",
    "    def __init__(self,BRAND,MODEL,COLOR,YEAR,SPEED):\n",
    "        self.BRAND = BRAND\n",
    "        self.MODEL = MODEL\n",
    "        self.COLOR = COLOR\n",
    "        self.YEAR =YEAR\n",
    "        self.SPEED =SPEED\n",
    "    def start(self):\n",
    "        print(f'{self.BRAND} {self.MODEL} has started')\n",
    "    def gear(self):\n",
    "        gearoption = input('Select a gear:')\n",
    "        if gearoption == '1':\n",
    "            print('GEAR ONE SELECTED')\n",
    "        elif gearoption == '2':\n",
    "            print('GEAR TWO SELECTED')\n",
    "        elif gearoption == '3':\n",
    "            print('GEAR THREE SELECTED')\n",
    "        elif gearoption == '4':\n",
    "            print('GEAR FOUR SELECTED')\n",
    "        elif gearoption == '5':\n",
    "            print('GEAR FIVE SELECTED')\n",
    "        if gearoption == 'REV':\n",
    "            print('REVERSED GEAR  SELECTED')\n",
    "    def accelarate(self,option):\n",
    "        if option == 1:\n",
    "            print('NITRO POWER ON')\n",
    "        elif option == 2:\n",
    "            print('NITRO POWER OFF')\n",
    "        else:\n",
    "            print('INVALID ACCELERATION OPTION')\n",
    "    def stop(self):\n",
    "        print(f'BOOMMMMMMMMMMMMMMMMMMMMMMMMM {self.BRAND} {self.MODEL} has stopped GAME OVER')\n",
    "car1 = car_game_simulation('Audi','A6','Black',2019,450)\n",
    "car2 =car_game_simulation('Lambogini','Mercelado','Yellow',2022,800)"
   ]
  },
  {
   "cell_type": "code",
   "execution_count": 8,
   "metadata": {},
   "outputs": [
    {
     "name": "stdout",
     "output_type": "stream",
     "text": [
      "Audi A6 has started\n"
     ]
    }
   ],
   "source": [
    "car1.start()"
   ]
  },
  {
   "cell_type": "code",
   "execution_count": 10,
   "metadata": {},
   "outputs": [
    {
     "name": "stdout",
     "output_type": "stream",
     "text": [
      "NITRO POWER ON\n"
     ]
    }
   ],
   "source": [
    "car1.accelarate(1)"
   ]
  },
  {
   "cell_type": "code",
   "execution_count": 11,
   "metadata": {},
   "outputs": [
    {
     "name": "stdout",
     "output_type": "stream",
     "text": [
      "BOOMMMMMMMMMMMMMMMMMMMMMMMMM Audi A6 has stopped GAME OVER\n"
     ]
    }
   ],
   "source": [
    "car1.stop()"
   ]
  },
  {
   "cell_type": "code",
   "execution_count": null,
   "metadata": {},
   "outputs": [],
   "source": [
    "class newcar(car_game_simulation):\n",
    "    def openroof(self,option):\n",
    "        if option == 1:\n",
    "            print('ROOF OPEN')\n",
    "        elif option == 2:\n",
    "            print('ROOF CLOSED')\n",
    "        else:\n",
    "            print('INVALID ROOF OPTION')\n",
    "car3 = newcar('Benz','Moral','Navy Blue',2022,850)"
   ]
  }
 ],
 "metadata": {
  "kernelspec": {
   "display_name": "Python 3.10.4 64-bit",
   "language": "python",
   "name": "python3"
  },
  "language_info": {
   "codemirror_mode": {
    "name": "ipython",
    "version": 3
   },
   "file_extension": ".py",
   "mimetype": "text/x-python",
   "name": "python",
   "nbconvert_exporter": "python",
   "pygments_lexer": "ipython3",
   "version": "3.10.4"
  },
  "orig_nbformat": 4,
  "vscode": {
   "interpreter": {
    "hash": "97a318a1c10ea3cad32b5f740e8bef65bce9a717407c951d39899fa160feabd9"
   }
  }
 },
 "nbformat": 4,
 "nbformat_minor": 2
}
