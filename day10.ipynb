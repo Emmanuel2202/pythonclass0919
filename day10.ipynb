{
 "cells": [
  {
   "cell_type": "code",
   "execution_count": 2,
   "metadata": {},
   "outputs": [
    {
     "name": "stdout",
     "output_type": "stream",
     "text": [
      "LIST OF OUR CLIENT\n",
      "NAME:Oliver Green\n",
      "GENDER:Male\n",
      "COUNTRY:Holland\n",
      "CONTINENT:Europe\n",
      "HEIGHT:1.7\n",
      "WEIGHT:70.0\n",
      "\n",
      "NAME:James Okere\n",
      "GENDER:Male\n",
      "COUNTRY:Nigeria\n",
      "CONTINENT:Africa\n",
      "HEIGHT:1.65\n",
      "WEIGHT:85.0\n",
      "\n",
      "You be charged a consultation fee of $150\n",
      "HEY YOU ARE HEALTHY PLEASE CONTINUE YOUR DIET ROUTINE\n"
     ]
    }
   ],
   "source": [
    "class BMI:\n",
    "    def __init__(self,name, gender, country, continent, height, weight):\n",
    "        self.name = name\n",
    "        self.gender = gender\n",
    "        self.country = country\n",
    "        self.continent = continent\n",
    "        self.height = height\n",
    "        self.weight = weight\n",
    "    def accept(self,NAME,GENDER,COUNTRY,CONTINENT,HEIGHT,WEIGHT):\n",
    "        ob= BMI(NAME,GENDER,COUNTRY,CONTINENT,HEIGHT,WEIGHT)\n",
    "        customers.append(ob)\n",
    "    def details(self,ob):\n",
    "        print(f'''NAME:{ob.name}\n",
    "GENDER:{ob.gender}\n",
    "COUNTRY:{ob.country}\n",
    "CONTINENT:{ob.continent}\n",
    "HEIGHT:{ob.height}\n",
    "WEIGHT:{ob.weight}\n",
    "''')\n",
    "    def price_charge(self):\n",
    "        continent = input('PLEASE PROVIDE YOUR CONTINENT ONCE AGAIN:')\n",
    "        if continent == 'Africa':\n",
    "            print('You be charged a consultation fee of $50')\n",
    "        elif continent == 'Asia':\n",
    "            print('You be charged a consultation fee of $70')\n",
    "        elif continent == 'South America':\n",
    "            print('You be charged a consultation fee of $65')\n",
    "        elif continent == 'North America':\n",
    "            print('You be charged a consultation fee of $65')\n",
    "        elif continent == 'Europe':\n",
    "            print('You be charged a consultation fee of $150')\n",
    "        elif continent == 'Oceania':\n",
    "            print('You be charged a consultation fee of $200')\n",
    "        else:\n",
    "            print('YOU HAVE PROVIDED A INVALID CONTINENT')\n",
    "    def body_mass_index_checker(self):\n",
    "        height = float(input('PLEASE PROVIDE YOUR HEIGHT ONCE AGAIN:'))\n",
    "        weight = float(input('PLEASE PROVIDE YOUR WEIGHT ONCE AGAIN:'))\n",
    "        bmi = (weight/(height**2))\n",
    "        if bmi < 18.5:\n",
    "            print('HEY YOU ARE UNDER WEIGHT PLEASE HELD ON TO THE NUTRITION SECTION FOR YOUR MEDICATION AND DIET ROUTINE')\n",
    "        elif bmi >= 18.5 and bmi <=24.9:\n",
    "            print('HEY YOU ARE HEALTHY PLEASE CONTINUE YOUR DIET ROUTINE')\n",
    "        elif bmi >= 25 and bmi <=29.9:\n",
    "            print('HEY YOU ARE OVER WEIGHT PLEASE HELD ON TO THE NUTRITION SECTION FOR YOUR MEDICATION AND DIET ROUTINE')\n",
    "        else:\n",
    "            print('HEY YOU ARE OBESE PLEASE HELD ON TO THE NUTRITION SECTION FOR YOUR MEDICATION AND DIET ROUTINE')\n",
    "customers = []\n",
    "obj = BMI('','','','',0,0)\n",
    "x = input('Enter y as yes to login and perform operations on the system and n as no to quit')\n",
    "n = 1\n",
    "while x == 'y':\n",
    "    operation = input('Choose your operation[accept,details,price_charge,body_mass_index_checker]')\n",
    "    if operation == 'accept':\n",
    "        obj.accept(input('Client Name'),input('Client GEnder'),input('Client Country'),input('Client Continent'),float(input('Client Height')),float(input('Client Weight')))\n",
    "    elif operation =='details':\n",
    "        print('LIST OF OUR CLIENT')\n",
    "        for i in range(len(customers)):\n",
    "            obj.details(customers[i])\n",
    "    elif operation =='price_charge':\n",
    "        obj.price_charge()\n",
    "    elif operation == 'body_mass_index_checker':\n",
    "        obj.body_mass_index_checker()\n",
    "    x = input('Enter y as yes to login and perform operations on the system and n as no to quit')\n",
    "    n = n + 1\n",
    "        "
   ]
  },
  {
   "cell_type": "code",
   "execution_count": 5,
   "metadata": {},
   "outputs": [],
   "source": [
    "file = open('demo.pdf','w')\n",
    "file.write('python is fun to learn\\npython is cool')\n",
    "file.close()"
   ]
  },
  {
   "cell_type": "code",
   "execution_count": 6,
   "metadata": {},
   "outputs": [
    {
     "name": "stdout",
     "output_type": "stream",
     "text": [
      "num = 12#Num as a variable storing an integer value of 12\n",
      "num2 = 15.6#Num2 as a variable storing a floating value of 15.6\n",
      "studentname = 'Ade Ojo'#studentname as a varible storing a sting value\n",
      "X =True # X as a cvarible stroing a boolean value\n",
      "\n",
      "#Declear a varible to hold any int value\n",
      "#Declear a variable to hold a floating value\n",
      "#Declear a variable to hold your firstname and another variable to hold your surname\n",
      "#Declear a varible to any of the boolean value\n",
      "print(studentname)\n",
      "word ='we\\'re brothers from the other side of the town'\n",
      "print(word)\n",
      "word2 = 'python is fun\\npython is easy to learn\\npython has an interactive environment'\n",
      "print(word2)\n",
      "\n",
      "word3 = '''python is fun\n",
      "python is easy to learn\n",
      "python has an interactive environmen\n",
      "'''\n",
      "print(word3)\n",
      "\n",
      "print('hello' + ' '+ 'world')\n",
      "print('welcome to earlycode', studentname)\n",
      "age1 = 26\n",
      "age2 = 30\n",
      "age3 = 20\n",
      "report = 'Ade is {} years old, Ojo is {} years old and paul is {} years old '\n",
      "print(report.format(age1,age2,age3))\n",
      "print(f'Ade is {age1} years old, Ojo is {age2} years old and paul is {age3} years old')\n",
      "\n",
      "\n",
      "word1 = 'python'\n",
      "word2 = 'PYTHON'\n",
      "word3 = 'python is fun'\n",
      "word4 = '  strip will clear off anyspace in front and back of a string'\n",
      "print(word1.upper())\n",
      "print(word2.lower())\n",
      "print(word3.title())\n",
      "print(word3.capitalize())\n",
      "print(word3.split())\n",
      "print(word4.strip()) \n",
      "\n",
      "\n"
     ]
    }
   ],
   "source": [
    "file =open('day1.py','r')\n",
    "print(file.read())\n",
    "file.close()"
   ]
  },
  {
   "cell_type": "code",
   "execution_count": 8,
   "metadata": {},
   "outputs": [],
   "source": [
    "file =open('demo.pdf','a')\n",
    "file.write('\\nPython is an high-level language')\n",
    "file.close()"
   ]
  },
  {
   "cell_type": "code",
   "execution_count": 9,
   "metadata": {},
   "outputs": [
    {
     "name": "stdout",
     "output_type": "stream",
     "text": [
      "python is fun to learn\n",
      "python is coolPython is an high-level language\n",
      "Python is an high-level language\n"
     ]
    }
   ],
   "source": [
    "file =open('demo.pdf','r+')\n",
    "print(file.read())\n",
    "file.write('\\nPython has an interactive environment')\n",
    "file.close()"
   ]
  },
  {
   "cell_type": "code",
   "execution_count": null,
   "metadata": {},
   "outputs": [],
   "source": []
  }
 ],
 "metadata": {
  "kernelspec": {
   "display_name": "Python 3.10.4 64-bit",
   "language": "python",
   "name": "python3"
  },
  "language_info": {
   "codemirror_mode": {
    "name": "ipython",
    "version": 3
   },
   "file_extension": ".py",
   "mimetype": "text/x-python",
   "name": "python",
   "nbconvert_exporter": "python",
   "pygments_lexer": "ipython3",
   "version": "3.10.4"
  },
  "orig_nbformat": 4,
  "vscode": {
   "interpreter": {
    "hash": "97a318a1c10ea3cad32b5f740e8bef65bce9a717407c951d39899fa160feabd9"
   }
  }
 },
 "nbformat": 4,
 "nbformat_minor": 2
}
