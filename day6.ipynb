{
 "cells": [
  {
   "cell_type": "code",
   "execution_count": 2,
   "metadata": {},
   "outputs": [
    {
     "name": "stdout",
     "output_type": "stream",
     "text": [
      "welcome to python class\n"
     ]
    }
   ],
   "source": [
    "#Function:\n",
    "def greet():#A function with no parameter or arguement \n",
    "    return 'welcome to python class'\n",
    "print(greet())"
   ]
  },
  {
   "cell_type": "code",
   "execution_count": 5,
   "metadata": {},
   "outputs": [
    {
     "name": "stdout",
     "output_type": "stream",
     "text": [
      "Welcome to python class Ade\n"
     ]
    }
   ],
   "source": [
    "def greet2(name):#A function with a single parameter or argument\n",
    "    return f'Welcome to python class {name}'\n",
    "print(greet2('Ade'))"
   ]
  },
  {
   "cell_type": "code",
   "execution_count": 6,
   "metadata": {},
   "outputs": [
    {
     "name": "stdout",
     "output_type": "stream",
     "text": [
      "Welcome to python class Jane\n"
     ]
    }
   ],
   "source": [
    "print(greet2('Jane'))"
   ]
  },
  {
   "cell_type": "code",
   "execution_count": 9,
   "metadata": {},
   "outputs": [
    {
     "name": "stdout",
     "output_type": "stream",
     "text": [
      "Above normal bag weight by Medium kg therefore you would be charged N20,000\n",
      "None\n"
     ]
    }
   ],
   "source": [
    "def bag_check(type_of_bag,color,bagweight):\n",
    "    if bagweight <= 23:\n",
    "        print('Normal bag weight no charges')\n",
    "    elif bagweight >=24 and bagweight<=30:\n",
    "        print('Above normal bag weight by little kg therefore you would be charged N10,000 ')\n",
    "    elif bagweight >=31 and bagweight <=40:\n",
    "         print('Above normal bag weight by Medium kg therefore you would be charged N20,000')\n",
    "    else:\n",
    "        print('Above normal bag weight by Large kg therefore you would be a charged a waybill of  N40,000')\n",
    "print(bag_check('Mediun Box','Black',35))\n",
    "\n"
   ]
  },
  {
   "cell_type": "code",
   "execution_count": 11,
   "metadata": {},
   "outputs": [
    {
     "name": "stdout",
     "output_type": "stream",
     "text": [
      "Above normal bag weight by Large kg therefore you would be a charged a waybill of  N40,000\n",
      "None\n"
     ]
    }
   ],
   "source": [
    "def bag_check(type_of_bag,color,bagweight = 23):\n",
    "    if bagweight <= 23:\n",
    "        print('Normal bag weight no charges')\n",
    "    elif bagweight >=24 and bagweight<=30:\n",
    "        print('Above normal bag weight by little kg therefore you would be charged N10,000 ')\n",
    "    elif bagweight >=31 and bagweight <=40:\n",
    "         print('Above normal bag weight by Medium kg therefore you would be charged N20,000')\n",
    "    else:\n",
    "        print('Above normal bag weight by Large kg therefore you would be a charged a waybill of  N40,000')\n",
    "print(bag_check('Mediun Box','Black',59))\n",
    "\n"
   ]
  },
  {
   "cell_type": "code",
   "execution_count": 12,
   "metadata": {},
   "outputs": [
    {
     "name": "stdout",
     "output_type": "stream",
     "text": [
      "PLAYER ONE SCORE 8\n",
      "PLAYER TWO SCORE 3\n",
      "PLAYER ONE WINS\n",
      "\n",
      "\n",
      "PLAYER ONE SCORE 10\n",
      "PLAYER TWO SCORE 11\n",
      "PLAYER TWO WINS\n",
      "\n",
      "\n",
      "PLAYER ONE SCORE 3\n",
      "PLAYER TWO SCORE 5\n",
      "PLAYER TWO WINS\n",
      "\n",
      "\n",
      "PLAYER ONE SCORE 9\n",
      "PLAYER TWO SCORE 7\n",
      "PLAYER ONE WINS\n",
      "\n",
      "\n",
      "PLAYER ONE SCORE 7\n",
      "PLAYER TWO SCORE 2\n",
      "PLAYER ONE WINS\n",
      "\n",
      "\n",
      "PLAYER ONE SCORE 5\n",
      "PLAYER TWO SCORE 7\n",
      "PLAYER TWO WINS\n",
      "\n",
      "\n",
      "PLAYER ONE SCORE 8\n",
      "PLAYER TWO SCORE 10\n",
      "PLAYER TWO WINS\n",
      "\n",
      "\n",
      "PLAYER ONE SCORE 11\n",
      "PLAYER TWO SCORE 3\n",
      "PLAYER ONE WINS\n",
      "\n",
      "\n",
      "PLAYER ONE SCORE 9\n",
      "PLAYER TWO SCORE 3\n",
      "PLAYER ONE WINS\n",
      "\n",
      "\n",
      "PLAYER ONE SCORE 5\n",
      "PLAYER TWO SCORE 7\n",
      "PLAYER TWO WINS\n",
      "\n",
      "\n",
      "NO WINNER THEREFORE IT IS A DRAW\n"
     ]
    }
   ],
   "source": [
    "def dice_roller():\n",
    "    import random\n",
    "    player1score = 0\n",
    "    player2score = 0\n",
    "    for i in range(1,11):\n",
    "        dice1 = random.randint(1,6) + random.randint(1,6)\n",
    "        dice2 = random.randint(1,6) + random.randint(1,6)\n",
    "        \n",
    "        if dice1 > dice2:\n",
    "            print(f'PLAYER ONE SCORE {dice1}')\n",
    "            print(f'PLAYER TWO SCORE {dice2}')\n",
    "            print(f'PLAYER ONE WINS')\n",
    "            player1score = player1score + 5\n",
    "            print('\\n')\n",
    "        elif dice2 > dice1:\n",
    "            print(f'PLAYER ONE SCORE {dice1}')\n",
    "            print(f'PLAYER TWO SCORE {dice2}')\n",
    "            print(f'PLAYER TWO WINS')\n",
    "            player2score = player2score + 5\n",
    "            print('\\n')\n",
    "        elif dice1 == dice2:\n",
    "            print(f'PLAYER ONE SCORE {dice1}')\n",
    "            print(f'PLAYER TWO SCORE {dice2}')\n",
    "            print(f'IT IS A DRAW')\n",
    "            player1score = player1score + 2\n",
    "            player2score = player2score + 2\n",
    "            print('\\n')\n",
    "    if player1score > player2score:\n",
    "        print(f'PLAYER ONE IS THE OVERALL WINNER WITH A TOTAL POINT OF {player1score}')\n",
    "    elif player2score > player1score:\n",
    "        print(f'PLAYER TWO IS THE OVERALL WINNER WITH A TOTAL POINT OF {player2score}')\n",
    "    else:\n",
    "        print('NO WINNER THEREFORE IT IS A DRAW')\n",
    "dice_roller()"
   ]
  },
  {
   "cell_type": "code",
   "execution_count": null,
   "metadata": {},
   "outputs": [],
   "source": [
    "def dice_roller():\n",
    "    import random\n",
    "    player1score = 0\n",
    "    player2score = 0\n",
    "    counter = 1\n",
    "    while counter <= 10:\n",
    "        dice1 = random.randint(1,6) + random.randint(1,6)\n",
    "        dice2 = random.randint(1,6) + random.randint(1,6)\n",
    "        \n",
    "        if dice1 > dice2:\n",
    "            print(f'PLAYER ONE SCORE {dice1}')\n",
    "            print(f'PLAYER TWO SCORE {dice2}')\n",
    "            print(f'PLAYER ONE WINS')\n",
    "            player1score = player1score + 5\n",
    "            print('\\n')\n",
    "        elif dice2 > dice1:\n",
    "            print(f'PLAYER ONE SCORE {dice1}')\n",
    "            print(f'PLAYER TWO SCORE {dice2}')\n",
    "            print(f'PLAYER TWO WINS')\n",
    "            player2score = player2score + 5\n",
    "            print('\\n')\n",
    "        elif dice1 == dice2:\n",
    "            print(f'PLAYER ONE SCORE {dice1}')\n",
    "            print(f'PLAYER TWO SCORE {dice2}')\n",
    "            print(f'IT IS A DRAW')\n",
    "            player1score = player1score + 2\n",
    "            player2score = player2score + 2\n",
    "            print('\\n')\n",
    "        counter =counter + 1\n",
    "    if player1score > player2score:\n",
    "        print(f'PLAYER ONE IS THE OVERALL WINNER WITH A TOTAL POINT OF {player1score}')\n",
    "    elif player2score > player1score:\n",
    "        print(f'PLAYER TWO IS THE OVERALL WINNER WITH A TOTAL POINT OF {player2score}')\n",
    "    else:\n",
    "        print('NO WINNER THEREFORE IT IS A DRAW')\n",
    "dice_roller()"
   ]
  },
  {
   "cell_type": "code",
   "execution_count": 14,
   "metadata": {},
   "outputs": [
    {
     "name": "stdout",
     "output_type": "stream",
     "text": [
      "<class 'tuple'>\n"
     ]
    },
    {
     "data": {
      "text/plain": [
       "'The average score of the following numbers (47, 89, 56, 85, 24, 69, 87, 89, 63, 25) is 63.4'"
      ]
     },
     "execution_count": 14,
     "metadata": {},
     "output_type": "execute_result"
    }
   ],
   "source": [
    "def average(*num):\n",
    "    print(type(num))\n",
    "    avg = sum(num)/len(num)\n",
    "    return f'The average score of the following numbers {num} is {avg}'\n",
    "average(47,89,56,85,24,69,87,89,63,25)"
   ]
  },
  {
   "cell_type": "code",
   "execution_count": 15,
   "metadata": {},
   "outputs": [
    {
     "name": "stdout",
     "output_type": "stream",
     "text": [
      "[69, 55, 65, 56, 69, 80, 56, 50, 67, 70, 67, 46, 50, 62, 50, 68, 54, 61, 67, 48, 58, 68, 54, 63, 77, 48, 75, 72, 52, 77, 73, 60, 60, 49, 67, 59, 72, 55, 45, 47, 80, 62, 63, 76, 55, 65, 69, 46, 56, 52]\n"
     ]
    }
   ],
   "source": [
    "import random\n",
    "numbers = []\n",
    "counter = 1\n",
    "while counter <= 50:\n",
    "    numbers.append(random.randint(45,80))\n",
    "    counter += 1\n",
    "print(numbers)"
   ]
  },
  {
   "cell_type": "code",
   "execution_count": 16,
   "metadata": {},
   "outputs": [
    {
     "name": "stdout",
     "output_type": "stream",
     "text": [
      "<class 'tuple'>\n"
     ]
    },
    {
     "data": {
      "text/plain": [
       "'The average score of the following numbers (69, 55, 65, 56, 69, 80, 56, 50, 67, 70, 67, 46, 50, 62, 50, 68, 54, 61, 67, 48, 58, 68, 54, 63, 77, 48, 75, 72, 52, 77, 73, 60, 60, 49, 67, 59, 72, 55, 45, 47, 80, 62, 63, 76, 55, 65, 69, 46, 56, 52) is 61.3'"
      ]
     },
     "execution_count": 16,
     "metadata": {},
     "output_type": "execute_result"
    }
   ],
   "source": [
    "average(*numbers)"
   ]
  },
  {
   "cell_type": "code",
   "execution_count": 17,
   "metadata": {},
   "outputs": [
    {
     "name": "stdout",
     "output_type": "stream",
     "text": [
      "<class 'dict'>\n",
      "name ::: Ade\n",
      "age ::: 45\n",
      "gender ::: Male\n"
     ]
    }
   ],
   "source": [
    "def details(**record):\n",
    "    print(type(record))\n",
    "    for key,value in record.items():\n",
    "        print(f'{key} ::: {value}')\n",
    "details(name='Ade',age=45,gender='Male')"
   ]
  },
  {
   "cell_type": "code",
   "execution_count": null,
   "metadata": {},
   "outputs": [],
   "source": [
    "bmi = (w/(h**2))"
   ]
  }
 ],
 "metadata": {
  "kernelspec": {
   "display_name": "Python 3.10.4 64-bit",
   "language": "python",
   "name": "python3"
  },
  "language_info": {
   "codemirror_mode": {
    "name": "ipython",
    "version": 3
   },
   "file_extension": ".py",
   "mimetype": "text/x-python",
   "name": "python",
   "nbconvert_exporter": "python",
   "pygments_lexer": "ipython3",
   "version": "3.10.4"
  },
  "orig_nbformat": 4,
  "vscode": {
   "interpreter": {
    "hash": "97a318a1c10ea3cad32b5f740e8bef65bce9a717407c951d39899fa160feabd9"
   }
  }
 },
 "nbformat": 4,
 "nbformat_minor": 2
}
