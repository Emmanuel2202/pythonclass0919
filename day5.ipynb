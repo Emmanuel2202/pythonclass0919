{
 "cells": [
  {
   "cell_type": "code",
   "execution_count": 1,
   "metadata": {},
   "outputs": [],
   "source": [
    "#write a program to find the amount that #5000 becomes if saved for 3 years at 6% per annum compound interest\n",
    "#Members of a family estimate that they will need 700000 to improve their house in 3 years time. they deposit 550000 at 5% per annum compound interest they add 25000 at the end of 1st year and 35000 at the end of 2nd year  write a program to find 1.their total savings after 3 years 2. by how much are their saving greater than or less than 700000 needed"
   ]
  },
  {
   "cell_type": "code",
   "execution_count": 11,
   "metadata": {},
   "outputs": [
    {
     "name": "stdout",
     "output_type": "stream",
     "text": [
      "983.4026241170732\n"
     ]
    }
   ],
   "source": [
    "#A = p(1+r/n)**nt - p\n",
    "t = 3\n",
    "p = 5000\n",
    "r = 6/100\n",
    "n=12\n",
    "ci = p*(1 + r/n)**(n*t) - p\n",
    "print(ci)"
   ]
  },
  {
   "cell_type": "code",
   "execution_count": 20,
   "metadata": {},
   "outputs": [
    {
     "name": "stdout",
     "output_type": "stream",
     "text": [
      "The Total amount after three year is 701006.25\n",
      "There saving is 1006.25 greater than the estimate amount of 700000\n"
     ]
    }
   ],
   "source": [
    "estimate = 700000\n",
    "principal = 550000\n",
    "firstdeposit=25000\n",
    "seconddeposit = 35000\n",
    "intrestrate = 5/100\n",
    "\n",
    "firstyear = (principal * intrestrate)+principal+firstdeposit\n",
    "secondyear = (firstyear * intrestrate) +firstyear +seconddeposit\n",
    "thirdyear =(secondyear * intrestrate) +secondyear\n",
    "print(f'The Total amount after three year is {thirdyear}')\n",
    "print(f'Thier saving is {thirdyear- estimate} greater than the estimated amount of {estimate}')"
   ]
  },
  {
   "cell_type": "code",
   "execution_count": 21,
   "metadata": {},
   "outputs": [],
   "source": [
    "#LOOPs"
   ]
  },
  {
   "cell_type": "code",
   "execution_count": 22,
   "metadata": {},
   "outputs": [
    {
     "name": "stdout",
     "output_type": "stream",
     "text": [
      "pppp\n",
      "yyyy\n",
      "tttt\n",
      "hhhh\n",
      "oooo\n",
      "nnnn\n"
     ]
    }
   ],
   "source": [
    "word  = 'python'\n",
    "for x in word:\n",
    "    print(x * 4)"
   ]
  },
  {
   "cell_type": "code",
   "execution_count": 26,
   "metadata": {},
   "outputs": [
    {
     "name": "stdout",
     "output_type": "stream",
     "text": [
      "pppp/yyyy/tttt/hhhh/oooo/nnnn/"
     ]
    }
   ],
   "source": [
    "word  = 'python'\n",
    "for x in word:\n",
    "    print(x * 4,end='/')"
   ]
  },
  {
   "cell_type": "code",
   "execution_count": 27,
   "metadata": {},
   "outputs": [
    {
     "name": "stdout",
     "output_type": "stream",
     "text": [
      "Dear Ade this is for your kind reminder that our python class starts next week monday, 12 noon\n",
      "Dear Ojo this is for your kind reminder that our python class starts next week monday, 12 noon\n",
      "Dear Banke this is for your kind reminder that our python class starts next week monday, 12 noon\n",
      "Dear Samuel this is for your kind reminder that our python class starts next week monday, 12 noon\n",
      "Dear Baklely this is for your kind reminder that our python class starts next week monday, 12 noon\n"
     ]
    }
   ],
   "source": [
    "names = ['Ade','Ojo','Banke','Samuel','Baklely']\n",
    "for name in names:\n",
    "    print(f'Dear {name} this is for your kind reminder that our python class starts next week monday, 12 noon')"
   ]
  },
  {
   "cell_type": "code",
   "execution_count": 28,
   "metadata": {},
   "outputs": [
    {
     "name": "stdout",
     "output_type": "stream",
     "text": [
      "REG001/45 ::: {'Name': 'Matthew Obafemi', 'Mathscore': 85, 'Englishscore': 75, 'Physicsscore': 60, 'Chemistryscore': 80}\n",
      "REG002/45 ::: {'Name': 'Janet Akpan', 'Mathscore': 78, 'Englishscore': 55, 'Physicsscore': 80, 'Chemistryscore': 79}\n",
      "REG003/45 ::: {'Name': 'Obot James', 'Mathscore': 80, 'Englishscore': 66, 'Physicsscore': 50, 'Chemistryscore': 80}\n",
      "REG004/45 ::: {'Name': 'Blessing Lawal', 'Mathscore': 65, 'Englishscore': 80, 'Physicsscore': 100, 'Chemistryscore': 86}\n"
     ]
    }
   ],
   "source": [
    "jamb_database = {\n",
    "    'REG001/45':{'Name':'Matthew Obafemi','Mathscore':85,'Englishscore':75,'Physicsscore':60,'Chemistryscore':80},\n",
    "    'REG002/45':{'Name':'Janet Akpan','Mathscore':78,'Englishscore':55,'Physicsscore':80,'Chemistryscore':79},\n",
    "    'REG003/45':{'Name':'Obot James','Mathscore':80,'Englishscore':66,'Physicsscore':50,'Chemistryscore':80},\n",
    "    'REG004/45':{'Name':'Blessing Lawal','Mathscore':65,'Englishscore':80,'Physicsscore':100,'Chemistryscore':86}\n",
    "}\n",
    "for key,value in jamb_database.items():\n",
    "    print(f'{key} ::: {value}')\n"
   ]
  },
  {
   "cell_type": "code",
   "execution_count": 31,
   "metadata": {},
   "outputs": [
    {
     "name": "stdout",
     "output_type": "stream",
     "text": [
      "Congratulations your jamb details are as follows {'Name': 'Blessing Lawal', 'Mathscore': 65, 'Englishscore': 80, 'Physicsscore': 100, 'Chemistryscore': 86}\n"
     ]
    }
   ],
   "source": [
    "jamb_database = {\n",
    "    'REG001/45':{'Name':'Matthew Obafemi','Mathscore':85,'Englishscore':75,'Physicsscore':60,'Chemistryscore':80},\n",
    "    'REG002/45':{'Name':'Janet Akpan','Mathscore':78,'Englishscore':55,'Physicsscore':80,'Chemistryscore':79},\n",
    "    'REG003/45':{'Name':'Obot James','Mathscore':80,'Englishscore':66,'Physicsscore':50,'Chemistryscore':80},\n",
    "    'REG004/45':{'Name':'Blessing Lawal','Mathscore':65,'Englishscore':80,'Physicsscore':100,'Chemistryscore':86}\n",
    "}\n",
    "registration_number = input('PLEASE PROVIDE YOUR REGISTRATION NUMBER:')\n",
    "for key in jamb_database:\n",
    "    if key == registration_number:\n",
    "        print(f'Congratulations your jamb details are as follows {jamb_database[key]}')\n",
    "        break\n",
    "else:\n",
    "    print('RECORD NOT FOUND')"
   ]
  },
  {
   "cell_type": "code",
   "execution_count": 32,
   "metadata": {},
   "outputs": [
    {
     "name": "stdout",
     "output_type": "stream",
     "text": [
      "Guess too high\n",
      "guess too low\n",
      "guess too low\n",
      "Sorry you lost\n"
     ]
    }
   ],
   "source": [
    "import random\n",
    "correct_guess = random.randint(1,20)\n",
    "guess_limit = 3\n",
    "guess_count = 0\n",
    "while guess_count < guess_limit:\n",
    "    guess = int(input('Please provide your guess within the range of 1 and 20:'))\n",
    "    guess_count = guess_count + 1\n",
    "    if guess > correct_guess:\n",
    "        print('Guess too high')\n",
    "    elif guess < correct_guess:\n",
    "        print('guess too low')\n",
    "    elif guess == correct_guess:\n",
    "        print('Congratulation you guessed correctly')\n",
    "        break\n",
    "else:\n",
    "    print('Sorry you lost')"
   ]
  },
  {
   "cell_type": "code",
   "execution_count": null,
   "metadata": {},
   "outputs": [],
   "source": []
  }
 ],
 "metadata": {
  "kernelspec": {
   "display_name": "Python 3.10.4 64-bit",
   "language": "python",
   "name": "python3"
  },
  "language_info": {
   "codemirror_mode": {
    "name": "ipython",
    "version": 3
   },
   "file_extension": ".py",
   "mimetype": "text/x-python",
   "name": "python",
   "nbconvert_exporter": "python",
   "pygments_lexer": "ipython3",
   "version": "3.10.4"
  },
  "orig_nbformat": 4,
  "vscode": {
   "interpreter": {
    "hash": "97a318a1c10ea3cad32b5f740e8bef65bce9a717407c951d39899fa160feabd9"
   }
  }
 },
 "nbformat": 4,
 "nbformat_minor": 2
}
